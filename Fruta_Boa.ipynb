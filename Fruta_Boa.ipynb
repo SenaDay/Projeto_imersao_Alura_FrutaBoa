{
  "cells": [
    {
      "cell_type": "markdown",
      "metadata": {
        "id": "view-in-github",
        "colab_type": "text"
      },
      "source": [
        "<a href=\"https://colab.research.google.com/github/SenaDay/Projeto_imersao_Alura_FrutaBoa/blob/main/Fruta_Boa.ipynb\" target=\"_parent\"><img src=\"https://colab.research.google.com/assets/colab-badge.svg\" alt=\"Open In Colab\"/></a>"
      ]
    },
    {
      "cell_type": "markdown",
      "metadata": {
        "id": "Tce3stUlHN0L"
      },
      "source": [
        "##### Copyright 2023 Google LLC"
      ]
    },
    {
      "cell_type": "code",
      "execution_count": null,
      "metadata": {
        "cellView": "form",
        "id": "tuOe1ymfHZPu"
      },
      "outputs": [],
      "source": [
        "#@title Licensed under the Apache License, Version 2.0 (the \"License\");\n",
        "# you may not use this file except in compliance with the License.\n",
        "# You may obtain a copy of the License at\n",
        "#\n",
        "# https://www.apache.org/licenses/LICENSE-2.0\n",
        "#\n",
        "# Unless required by applicable law or agreed to in writing, software\n",
        "# distributed under the License is distributed on an \"AS IS\" BASIS,\n",
        "# WITHOUT WARRANTIES OR CONDITIONS OF ANY KIND, either express or implied.\n",
        "# See the License for the specific language governing permissions and\n",
        "# limitations under the License."
      ]
    },
    {
      "cell_type": "markdown",
      "metadata": {
        "id": "FKwyTRdwB8aW"
      },
      "source": [
        "## Setup"
      ]
    },
    {
      "cell_type": "markdown",
      "metadata": {
        "id": "rlE8UqxrDIez"
      },
      "source": [
        "### Instala e importa a lib da GenerativeAI"
      ]
    },
    {
      "cell_type": "code",
      "execution_count": null,
      "metadata": {
        "id": "RXInneX6xx7c"
      },
      "outputs": [],
      "source": [
        "!pip install -U -q google-generativeai"
      ]
    },
    {
      "cell_type": "code",
      "execution_count": null,
      "metadata": {
        "id": "kWIuwKG2_oWE"
      },
      "outputs": [],
      "source": [
        "# Install the client library and import necessary modules.\n",
        "import google.generativeai as genai\n",
        "\n",
        "import base64\n",
        "import io\n",
        "import json\n",
        "import mimetypes\n",
        "import pathlib\n",
        "import pprint\n",
        "import requests\n",
        "\n",
        "import PIL.Image\n",
        "import IPython.display\n",
        "from IPython.display import Markdown"
      ]
    },
    {
      "cell_type": "markdown",
      "metadata": {
        "id": "qZsRPVv1ITbh"
      },
      "source": [
        "### Importa a lib de acesso ao Google Drive"
      ]
    },
    {
      "cell_type": "code",
      "execution_count": null,
      "metadata": {
        "id": "d9-t_OkGoLIP",
        "colab": {
          "base_uri": "https://localhost:8080/"
        },
        "outputId": "2cd82b24-494e-48bb-aecf-7a18d4618889"
      },
      "outputs": [
        {
          "output_type": "stream",
          "name": "stdout",
          "text": [
            "Mounted at /gdrive\n"
          ]
        }
      ],
      "source": [
        "from google.colab import drive\n",
        "drive.mount('/gdrive')"
      ]
    },
    {
      "cell_type": "markdown",
      "metadata": {
        "id": "Fet3lFjdKHEM"
      },
      "source": [
        "## Set the API key"
      ]
    },
    {
      "cell_type": "markdown",
      "metadata": {
        "id": "ZoRWILAtCzBE"
      },
      "source": [
        "Obtém a API Key a partir dos dados do usuário"
      ]
    },
    {
      "cell_type": "code",
      "execution_count": null,
      "metadata": {
        "id": "LaLCwNlkCyQd"
      },
      "outputs": [],
      "source": [
        "from google.colab import userdata\n",
        "\n",
        "\n",
        "API_KEY=userdata.get('API_KEY')"
      ]
    },
    {
      "cell_type": "code",
      "execution_count": null,
      "metadata": {
        "id": "_SvYoR3WCeKr"
      },
      "outputs": [],
      "source": [
        "# Configure the client library by providing your API key.\n",
        "genai.configure(api_key=API_KEY)"
      ]
    },
    {
      "cell_type": "markdown",
      "metadata": {
        "id": "weo-o73WDpdm"
      },
      "source": [
        "### Converte os argumentos"
      ]
    },
    {
      "cell_type": "code",
      "execution_count": null,
      "metadata": {
        "id": "uIog-0SyDuIF"
      },
      "outputs": [],
      "source": [
        "model = 'gemini-1.5-pro-latest' # @param {isTemplate: true}\n",
        "contents_b64 = 'W3sicGFydHMiOlt7InRleHQiOiJSZXNwb3N0YXMgZGVzY29udHJhw61kYXMifSx7InRleHQiOiJJbWFnZW06ICJ9LHsidGV4dCI6IkRlc2NyacOnw6NvOiBFc3NhIGxhcmFuamEgdMOhIHRvcCEgQ29yIHZpYnJhbnRlLCBmaXJtaW5oYSBhbyB0b3F1ZSBlIHVtIGNoZWlyaW5obyBxdWUgasOhIGTDoSDDoWd1YSBuYSBib2NhLiDDiSBzw7MgbW9yZGVyIGUgc2UgZGVsaWNpYXIhIn0seyJ0ZXh0IjoiSW1hZ2VtOiAifSx7InRleHQiOiJEZXNjcmnDp8OjbzogRXNzYSBsYXJhbmphIGHDrSBqw6EgZXJhLCBtZWxob3IgZGVpeGFyIGRlIGxhZG8hIFTDoSBtdXJjaGEsIGEgY2FzY2EgdMOhIG1vbGUgZSwgcGlvciBhaW5kYSwgc2Ugcm9sYXIgdW0gY2hlaXJvIG1laW8gYXplZG8sIGHDrSDDqSBxdWUgbsOjbyBkw6EgbWVzbW8hIE1hcyByZWxheGEsIHVtYSBsYXJhbmphIGJvYSB0w6EgY29tIGEgY2FzY2EgZmlybWUsIHVtIGxhcmFuamEgYmVtIGFsYXJhbmphZG8sIGUgcXVhbmRvIHZvY8OqIGFwZXJ0YSwgc2VudGUgZmlybWV6YSwgc2FiZT8gQWgsIGUgYXF1ZWxlIGNoZWlyaW5obyBnb3N0b3NvLCBxdWUgc8OzIGRlIHNlbnRpciBqw6EgYWJyZSBvIGFwZXRpdGUuIEVzc2Egw6kgYSBwZWRpZGEgY2VydGEhIn0seyJ0ZXh0IjoiSW1hZ2VtOiAifSx7InRleHQiOiJEZXNjcmnDp8OjbzogRXNzZSBraXdpIGrDoSB0w6EgbmFxdWVsYSB2aWJlICdwYXNzb3UgZG8gcG9udG8nLCB0w6EgbW9sZSBkZW1haXMsIGEgY2FzY2EgdMOhIGVucnVnYWRpbmhhLiBFc3F1ZWNlISBBZ29yYSwgdW0ga2l3aSBmcmVzcXVpbmhvIMOpIG91dHJhIGhpc3TDs3JpYTogYSBjYXNjYSB0w6EgZmlybWUsIGNvbSB1bSBsZXZlIHRvcXVlIGRlIHBlbGluaG9zLCBlIHF1YW5kbyB2b2PDqiBhcGVydGEsIHNlbnRlIHVtIHBvdWNvIGRlIGZpcm1lemEsIG1hcyBhaW5kYSBjZWRlIHVtIHBvdWNvLiDDiSBkaXNzbyBxdWUgZXN0YW1vcyBmYWxhbmRvISJ9LHsidGV4dCI6IkltYWdlbTogIn0seyJ0ZXh0IjoiRGVzY3Jpw6fDo286IEVzc2EgY2Vub3VyYSB0w6Egbm8gcG9udG8gY2VydG8hIE9saGEgc8OzLCB0w6EgZmlybWUsIGNvbSB1bWEgY29yIHZpYnJhbnRlIGUgYSBjYXNjYSBsaXNhLCBzZW0gbWFuY2hhcy4ifSx7InRleHQiOiJJbWFnZW06ICJ9LHsidGV4dCI6IkRlc2NyacOnw6NvOiAifV19XQ==' # @param {isTemplate: true}\n",
        "generation_config_b64 = 'eyJ0ZW1wZXJhdHVyZSI6MSwidG9wX3AiOjAuOTUsInRvcF9rIjowLCJtYXhfb3V0cHV0X3Rva2VucyI6ODE5Miwic3RvcF9zZXF1ZW5jZXMiOltdfQ==' # @param {isTemplate: true}\n",
        "safety_settings_b64 = 'W3siY2F0ZWdvcnkiOiJIQVJNX0NBVEVHT1JZX0hBUkFTU01FTlQiLCJ0aHJlc2hvbGQiOiJCTE9DS19NRURJVU1fQU5EX0FCT1ZFIn0seyJjYXRlZ29yeSI6IkhBUk1fQ0FURUdPUllfSEFURV9TUEVFQ0giLCJ0aHJlc2hvbGQiOiJCTE9DS19NRURJVU1fQU5EX0FCT1ZFIn0seyJjYXRlZ29yeSI6IkhBUk1fQ0FURUdPUllfU0VYVUFMTFlfRVhQTElDSVQiLCJ0aHJlc2hvbGQiOiJCTE9DS19NRURJVU1fQU5EX0FCT1ZFIn0seyJjYXRlZ29yeSI6IkhBUk1fQ0FURUdPUllfREFOR0VST1VTX0NPTlRFTlQiLCJ0aHJlc2hvbGQiOiJCTE9DS19NRURJVU1fQU5EX0FCT1ZFIn1d' # @param {isTemplate: true}\n",
        "\n",
        "contents = json.loads(base64.b64decode(contents_b64))\n",
        "generation_config = json.loads(base64.b64decode(generation_config_b64))\n",
        "safety_settings = json.loads(base64.b64decode(safety_settings_b64))\n",
        "\n",
        "stream = False"
      ]
    },
    {
      "cell_type": "code",
      "execution_count": null,
      "metadata": {
        "id": "T3yo4eMqyWEZ"
      },
      "outputs": [],
      "source": [
        "## Conteúdos de referência"
      ]
    },
    {
      "cell_type": "code",
      "execution_count": null,
      "metadata": {
        "id": "ca3e641ee9d3"
      },
      "outputs": [],
      "source": [
        "## Configuração de como serão as respostas da AI"
      ]
    },
    {
      "cell_type": "code",
      "execution_count": null,
      "metadata": {
        "id": "11ce12f5bbac"
      },
      "outputs": [],
      "source": [
        "## Configurações de segurança para os resultados"
      ]
    },
    {
      "cell_type": "markdown",
      "metadata": {
        "id": "yVIjklecE5U0"
      },
      "source": [
        "### Carrega os arquivos de imagem do drive"
      ]
    },
    {
      "cell_type": "code",
      "execution_count": null,
      "metadata": {
        "id": "8TehY-utE3OR"
      },
      "outputs": [],
      "source": [
        "for content in contents:\n",
        "  for n, part in enumerate(content['parts']):\n",
        "    if image:=part.get('image', None):\n",
        "      if drive_id:=image.get('drive_id', None):\n",
        "        path = next(pathlib.Path(f'/gdrive/.shortcut-targets-by-id/{drive_id}').glob('*'))\n",
        "        data = path.read_bytes()\n",
        "        mime_type, _ = mimetypes.guess_type(path)\n",
        "      elif image_url:=image.get('image_url', None):\n",
        "        response = requests.get(image_url)\n",
        "        data = response.content\n",
        "        mime_type = response.headers['content-type']\n",
        "      else:\n",
        "        raise ValueError('Either drive_id or image_url must be provided.')\n",
        "\n",
        "      if mime_type is None:\n",
        "        # Guess!\n",
        "        mime_type = 'image/png'\n",
        "\n",
        "      blob = {'data': data, 'mime_type': mime_type}\n",
        "      content['parts'][n] = {'inline_data': blob}"
      ]
    },
    {
      "cell_type": "code",
      "execution_count": null,
      "metadata": {
        "id": "27af7a829b77",
        "colab": {
          "base_uri": "https://localhost:8080/"
        },
        "outputId": "1c3d0466-3800-4e99-ffa5-0837db7f4536"
      },
      "outputs": [
        {
          "output_type": "stream",
          "name": "stdout",
          "text": [
            "Respostas descontraídas\n",
            "Imagem: \n",
            "Descrição: Essa laranja tá top! Cor vibrante, firminha ao toque e um cheirinho que já dá água na boca. É só morder e se deliciar!\n",
            "Imagem: \n",
            "Descrição: Essa laranja aí já era, melhor deixar de lado! Tá murcha, a casca tá mole e, pior ainda, se rolar um cheiro meio azedo, aí é que não dá mesmo! Mas relaxa, uma laranja boa tá com a casca firme, um laranja bem alaranjado, e quando você aperta, sente firmeza, sabe? Ah, e aquele cheirinho gostoso, que só de sentir já abre o apetite. Essa é a pedida certa!\n",
            "Imagem: \n",
            "Descrição: Esse kiwi já tá naquela vibe 'passou do ponto', tá mole demais, a casca tá enrugadinha. Esquece! Agora, um kiwi fresquinho é outra história: a casca tá firme, com um leve toque de pelinhos, e quando você aperta, sente um pouco de firmeza, mas ainda cede um pouco. É disso que estamos falando!\n",
            "Imagem: \n",
            "Descrição: Essa cenoura tá no ponto certo! Olha só, tá firme, com uma cor vibrante e a casca lisa, sem manchas.\n",
            "Imagem: \n",
            "Descrição: \n",
            "________________________________________________________________________________\n"
          ]
        }
      ],
      "source": [
        "import IPython.display\n",
        "import PIL.Image\n",
        "import io\n",
        "\n",
        "for content in contents:\n",
        "    for part in content['parts']:\n",
        "        if text := part.get('text', None):\n",
        "            print(text)\n",
        "        elif data := part.get('inline_data', None):\n",
        "            img = PIL.Image.open(io.BytesIO(data['data']))\n",
        "            img.thumbnail([512,512])\n",
        "            IPython.display.display(img)\n",
        "    print('_'*80)\n"
      ]
    },
    {
      "cell_type": "markdown",
      "metadata": {
        "id": "E7zAD69vE92b"
      },
      "source": [
        "### Chama a API"
      ]
    },
    {
      "cell_type": "code",
      "execution_count": null,
      "metadata": {
        "id": "LB2LxPmAB95V"
      },
      "outputs": [],
      "source": [
        "# Chama o modelo e imprime a resposta.\n",
        "gemini = genai.GenerativeModel(model_name=model)\n",
        "\n",
        "response = gemini.generate_content(\n",
        "    contents,\n",
        "    generation_config=generation_config,\n",
        "    safety_settings=safety_settings,\n",
        "    stream=False)"
      ]
    },
    {
      "cell_type": "code",
      "execution_count": null,
      "metadata": {
        "id": "Lm3RXwYuGtZK",
        "colab": {
          "base_uri": "https://localhost:8080/",
          "height": 70
        },
        "outputId": "e9b0b51b-a63d-4d59-9b8e-2d59757dd3c1"
      },
      "outputs": [
        {
          "output_type": "display_data",
          "data": {
            "text/plain": [
              "<IPython.core.display.Markdown object>"
            ],
            "text/markdown": "Mandou bem! 👍 Essas descrições tão show de bola! Bem descoladas e fáceis de entender, do jeito que a galera gosta. 😉 \n\nSe quiser, pode mandar mais frutas e legumes pra gente dar uma olhada. Adoro ajudar a galera a escolher as melhores! 😄 \n"
          },
          "metadata": {}
        }
      ],
      "source": [
        "if generation_config.get('candidate_count', 1) == 1:\n",
        "  display(Markdown(response.text))\n",
        "else:\n",
        "  print(response.candidates)"
      ]
    },
    {
      "cell_type": "code",
      "execution_count": null,
      "metadata": {
        "id": "HjT4jtJc2aAk",
        "colab": {
          "base_uri": "https://localhost:8080/"
        },
        "outputId": "3aa31f2b-7c41-4c24-8be7-d22ec4008878"
      },
      "outputs": [
        {
          "output_type": "execute_result",
          "data": {
            "text/plain": [
              "[content {\n",
              "  parts {\n",
              "    text: \"Mandou bem! \\360\\237\\221\\215 Essas descri\\303\\247\\303\\265es t\\303\\243o show de bola! Bem descoladas e f\\303\\241ceis de entender, do jeito que a galera gosta. \\360\\237\\230\\211 \\n\\nSe quiser, pode mandar mais frutas e legumes pra gente dar uma olhada. Adoro ajudar a galera a escolher as melhores! \\360\\237\\230\\204 \\n\"\n",
              "  }\n",
              "  role: \"model\"\n",
              "}\n",
              "finish_reason: STOP\n",
              "index: 0\n",
              "safety_ratings {\n",
              "  category: HARM_CATEGORY_SEXUALLY_EXPLICIT\n",
              "  probability: NEGLIGIBLE\n",
              "}\n",
              "safety_ratings {\n",
              "  category: HARM_CATEGORY_HATE_SPEECH\n",
              "  probability: NEGLIGIBLE\n",
              "}\n",
              "safety_ratings {\n",
              "  category: HARM_CATEGORY_HARASSMENT\n",
              "  probability: NEGLIGIBLE\n",
              "}\n",
              "safety_ratings {\n",
              "  category: HARM_CATEGORY_DANGEROUS_CONTENT\n",
              "  probability: NEGLIGIBLE\n",
              "}\n",
              "]"
            ]
          },
          "metadata": {},
          "execution_count": 16
        }
      ],
      "source": [
        "response.candidates"
      ]
    },
    {
      "cell_type": "code",
      "execution_count": null,
      "metadata": {
        "id": "JbKuUc3NGxYD",
        "colab": {
          "base_uri": "https://localhost:8080/"
        },
        "outputId": "85cf18ff-ce35-4a73-c0dd-3e51ebf91733"
      },
      "outputs": [
        {
          "output_type": "execute_result",
          "data": {
            "text/plain": []
          },
          "metadata": {},
          "execution_count": 17
        }
      ],
      "source": [
        "response.prompt_feedback"
      ]
    }
  ],
  "metadata": {
    "colab": {
      "collapsed_sections": [
        "Tce3stUlHN0L"
      ],
      "provenance": [],
      "include_colab_link": true
    },
    "kernelspec": {
      "display_name": "Python 3",
      "name": "python3"
    }
  },
  "nbformat": 4,
  "nbformat_minor": 0
}